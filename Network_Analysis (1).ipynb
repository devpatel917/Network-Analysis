{
  "nbformat": 4,
  "nbformat_minor": 0,
  "metadata": {
    "colab": {
      "name": "Network Analysis.ipynb",
      "provenance": []
    },
    "kernelspec": {
      "name": "python3",
      "display_name": "Python 3"
    },
    "language_info": {
      "name": "python"
    }
  },
  "cells": [
    {
      "cell_type": "code",
      "metadata": {
        "id": "3V19-4GYRAkH"
      },
      "source": [
        "import networkx as nx"
      ],
      "execution_count": 1,
      "outputs": []
    },
    {
      "cell_type": "code",
      "metadata": {
        "colab": {
          "base_uri": "https://localhost:8080/"
        },
        "id": "1KC_YtizRext",
        "outputId": "cd4f077b-262c-4ebe-efea-e50886f99a97"
      },
      "source": [
        "G = nx.Graph()\n",
        "G.add_nodes_from([1,2,3]) # adding nodes\n",
        "print(G.nodes())"
      ],
      "execution_count": 2,
      "outputs": [
        {
          "output_type": "stream",
          "name": "stdout",
          "text": [
            "[1, 2, 3]\n"
          ]
        }
      ]
    },
    {
      "cell_type": "code",
      "metadata": {
        "colab": {
          "base_uri": "https://localhost:8080/"
        },
        "id": "qUsTAlIXRkZW",
        "outputId": "24946061-a41c-402b-b44c-b68085e27810"
      },
      "source": [
        "G.add_edge(1,2)\n",
        "print(G.edges) "
      ],
      "execution_count": 3,
      "outputs": [
        {
          "output_type": "stream",
          "name": "stdout",
          "text": [
            "[(1, 2)]\n"
          ]
        }
      ]
    },
    {
      "cell_type": "code",
      "metadata": {
        "colab": {
          "base_uri": "https://localhost:8080/"
        },
        "id": "YTzxz3FxR5bI",
        "outputId": "2884503b-4b03-4ac7-9708-01223c05ab2b"
      },
      "source": [
        "G.nodes[1]['label'] = 'blue'\n",
        "print(G.nodes(data = True)) # returns a list of tuples with node value and with metadata\n",
        "print(list(G.nodes(data=True))[-1][0]) #data = true also returns the corresponding metadata with the result\n",
        "\n",
        "# we can also have metadata about the edges"
      ],
      "execution_count": 4,
      "outputs": [
        {
          "output_type": "stream",
          "name": "stdout",
          "text": [
            "[(1, {'label': 'blue'}), (2, {}), (3, {})]\n",
            "3\n"
          ]
        }
      ]
    },
    {
      "cell_type": "code",
      "metadata": {
        "colab": {
          "base_uri": "https://localhost:8080/",
          "height": 319
        },
        "id": "0To8JK1LYkUc",
        "outputId": "af26fb9f-362b-4461-9ffa-de6f6b4ff11d"
      },
      "source": [
        "nx.draw(G)\n",
        "import matplotlib.pyplot as plt\n",
        "plt.show()"
      ],
      "execution_count": 5,
      "outputs": [
        {
          "output_type": "display_data",
          "data": {
            "image/png": "[encoded data removed]",
            "text/plain": [
              "<Figure size 432x288 with 1 Axes>"
            ]
          },
          "metadata": {}
        }
      ]
    },
    {
      "cell_type": "code",
      "metadata": {
        "colab": {
          "base_uri": "https://localhost:8080/"
        },
        "id": "yYmzuGa0ZOZx",
        "outputId": "5ed56ac0-8989-42f4-93dc-744b881e31c2"
      },
      "source": [
        "print(G.edges(data=True))"
      ],
      "execution_count": null,
      "outputs": [
        {
          "output_type": "stream",
          "name": "stdout",
          "text": [
            "[]\n"
          ]
        }
      ]
    },
    {
      "cell_type": "code",
      "metadata": {
        "id": "Blr5nbrho7DE"
      },
      "source": [
        ""
      ],
      "execution_count": 6,
      "outputs": []
    },
    {
      "cell_type": "code",
      "metadata": {
        "colab": {
          "base_uri": "https://localhost:8080/"
        },
        "id": "WCZAUzJVkiXq",
        "outputId": "b27b1c9e-0f91-4250-ffb9-5da59ca8abc5"
      },
      "source": [
        "# undirected graphs -> goes back and forth, no directionality between the nodes (friends)\n",
        "# directed graphs -> there is a directed graph (may not follow back)\n",
        "\n",
        "D = nx.DiGraph()\n",
        "print(type(D))"
      ],
      "execution_count": null,
      "outputs": [
        {
          "output_type": "stream",
          "name": "stdout",
          "text": [
            "<class 'networkx.classes.digraph.DiGraph'>\n"
          ]
        }
      ]
    },
    {
      "cell_type": "code",
      "metadata": {
        "colab": {
          "base_uri": "https://localhost:8080/"
        },
        "id": "IVYvKqC8lvGM",
        "outputId": "da736c20-11d7-4f4b-943f-b2b60d9f1e51"
      },
      "source": [
        "# self loops - connected with themselves (what are self loops)\n",
        "\n",
        "# to save memory, instead of having multi-edge graphs, we can correlate that to a particular weight\n",
        "\n",
        "print(G.edges(1,2))"
      ],
      "execution_count": null,
      "outputs": [
        {
          "output_type": "stream",
          "name": "stdout",
          "text": [
            "[]\n"
          ]
        }
      ]
    },
    {
      "cell_type": "code",
      "metadata": {
        "id": "Q9rqtExim-ay"
      },
      "source": [
        "G_symmetric = nx.Graph()\n",
        "#also known as undirected. we can also have directed graphs and weighted graphs\n",
        "G_symmetric.add_edge('Steven',  'Laura')\n",
        "G_symmetric.add_edge('Steven',  'Marc')\n",
        "G_symmetric.add_edge('Steven',  'John')\n",
        "G_symmetric.add_edge('Steven',  'Michelle')\n",
        "G_symmetric.add_edge('Laura',   'Michelle')\n",
        "G_symmetric.add_edge('Michelle','Marc')\n",
        "G_symmetric.add_edge('George',  'John')\n",
        "G_symmetric.add_edge('George',  'Steven')"
      ],
      "execution_count": 7,
      "outputs": []
    },
    {
      "cell_type": "code",
      "metadata": {
        "colab": {
          "base_uri": "https://localhost:8080/"
        },
        "id": "aiiqQapjpBWe",
        "outputId": "af8260da-8e4f-4f65-d6b6-a2bce9be94b0"
      },
      "source": [
        "print(nx.info(G_symmetric))"
      ],
      "execution_count": 8,
      "outputs": [
        {
          "output_type": "stream",
          "name": "stdout",
          "text": [
            "Graph with 6 nodes and 8 edges\n"
          ]
        }
      ]
    },
    {
      "cell_type": "code",
      "metadata": {
        "colab": {
          "base_uri": "https://localhost:8080/",
          "height": 303
        },
        "id": "B89Jh7mQpBxb",
        "outputId": "92a1d0f7-eadc-40db-ef24-8bdd8e5113ad"
      },
      "source": [
        "plt.figure(figsize=(5,5))\n",
        "nx.draw_networkx(G_symmetric);"
      ],
      "execution_count": 9,
      "outputs": [
        {
          "output_type": "display_data",
          "data": {
            "image/png": "[encoded data removed]",
            "text/plain": [
              "<Figure size 360x360 with 1 Axes>"
            ]
          },
          "metadata": {}
        }
      ]
    },
    {
      "cell_type": "code",
      "metadata": {
        "colab": {
          "base_uri": "https://localhost:8080/"
        },
        "id": "kAgZ1Yz0pEZk",
        "outputId": "5c979ca0-933a-4d09-b9e3-6e1ddba936ba"
      },
      "source": [
        "nx.degree(G_symmetric, 'Michelle')"
      ],
      "execution_count": 10,
      "outputs": [
        {
          "output_type": "execute_result",
          "data": {
            "text/plain": [
              "3"
            ]
          },
          "metadata": {},
          "execution_count": 10
        }
      ]
    },
    {
      "cell_type": "code",
      "metadata": {
        "colab": {
          "base_uri": "https://localhost:8080/"
        },
        "id": "XV5wtcfwpWTL",
        "outputId": "7e9dd6ed-dce8-4ec1-f8fc-7c454259d8b8"
      },
      "source": [
        "nx.shortest_path(G_symmetric, 'Michelle', 'John')"
      ],
      "execution_count": 11,
      "outputs": [
        {
          "output_type": "execute_result",
          "data": {
            "text/plain": [
              "['Michelle', 'Steven', 'John']"
            ]
          },
          "metadata": {},
          "execution_count": 11
        }
      ]
    },
    {
      "cell_type": "code",
      "metadata": {
        "colab": {
          "base_uri": "https://localhost:8080/"
        },
        "id": "jvlnV7mQpYa6",
        "outputId": "021cbdec-0990-4bd9-a81f-16eb84fb47ae"
      },
      "source": [
        "nx.shortest_path_length(G_symmetric, 'Michelle', 'John')"
      ],
      "execution_count": 12,
      "outputs": [
        {
          "output_type": "execute_result",
          "data": {
            "text/plain": [
              "2"
            ]
          },
          "metadata": {},
          "execution_count": 12
        }
      ]
    },
    {
      "cell_type": "code",
      "metadata": {
        "colab": {
          "base_uri": "https://localhost:8080/",
          "height": 248
        },
        "id": "zGNXZkb9pYuO",
        "outputId": "a9643650-87e8-484b-d6fe-c43be5fa18fe"
      },
      "source": [
        "M = nx.bfs_tree(G_symmetric, 'Michelle')\n",
        "nx.draw_networkx(M)\n",
        "\n",
        "# search algorithm: bread-first\n",
        "\n",
        "# how can we get to other nodes from Michelle"
      ],
      "execution_count": 13,
      "outputs": [
        {
          "output_type": "display_data",
          "data": {
            "image/png": "[encoded data removed]",
            "text/plain": [
              "<Figure size 432x288 with 1 Axes>"
            ]
          },
          "metadata": {}
        }
      ]
    },
    {
      "cell_type": "code",
      "metadata": {
        "colab": {
          "base_uri": "https://localhost:8080/"
        },
        "id": "5CyprEmsppDZ",
        "outputId": "11caba7c-3d36-4996-efe1-be8b8649610f"
      },
      "source": [
        "nx.degree_centrality(G_symmetric)\n",
        "\n",
        "# number of neighbors "
      ],
      "execution_count": 14,
      "outputs": [
        {
          "output_type": "execute_result",
          "data": {
            "text/plain": [
              "{'George': 0.4,\n",
              " 'John': 0.4,\n",
              " 'Laura': 0.4,\n",
              " 'Marc': 0.4,\n",
              " 'Michelle': 0.6000000000000001,\n",
              " 'Steven': 1.0}"
            ]
          },
          "metadata": {},
          "execution_count": 14
        }
      ]
    },
    {
      "cell_type": "code",
      "metadata": {
        "colab": {
          "base_uri": "https://localhost:8080/"
        },
        "id": "t15R2H2apiPV",
        "outputId": "35be6567-8b76-40a9-ce53-c06424fea14a"
      },
      "source": [
        "nx.eigenvector_centrality(G_symmetric)\n",
        "\n",
        "# not just the number of neighbors, but also accounts for the importance of those neighbors\n",
        "\n",
        "# google page rank is a variant of this eigenvector"
      ],
      "execution_count": 15,
      "outputs": [
        {
          "output_type": "execute_result",
          "data": {
            "text/plain": [
              "{'George': 0.30844592433424667,\n",
              " 'John': 0.30844592433424667,\n",
              " 'Laura': 0.3545677660798074,\n",
              " 'Marc': 0.3545677660798074,\n",
              " 'Michelle': 0.4443904166426225,\n",
              " 'Steven': 0.6006686104947806}"
            ]
          },
          "metadata": {},
          "execution_count": 15
        }
      ]
    },
    {
      "cell_type": "code",
      "metadata": {
        "colab": {
          "base_uri": "https://localhost:8080/"
        },
        "id": "2bb964uopstV",
        "outputId": "0087ac79-3b34-47de-a680-daafd7017a86"
      },
      "source": [
        "nx.betweenness_centrality(G_symmetric)\n",
        "\n",
        "# how many times does a certain node lie on the shortest path between all nodes (breadth first search)\n",
        "#The number of shortest paths in a graph that pass through a node, divided by the number of shortest paths that exist between every pair of nodes in a graph."
      ],
      "execution_count": 16,
      "outputs": [
        {
          "output_type": "execute_result",
          "data": {
            "text/plain": [
              "{'George': 0.0,\n",
              " 'John': 0.0,\n",
              " 'Laura': 0.0,\n",
              " 'Marc': 0.0,\n",
              " 'Michelle': 0.05,\n",
              " 'Steven': 0.65}"
            ]
          },
          "metadata": {},
          "execution_count": 16
        }
      ]
    },
    {
      "cell_type": "markdown",
      "metadata": {
        "id": "TknvcsUkqFKa"
      },
      "source": [
        "Insight:\n",
        "Here we can see that George is by all measures of centrality the source/most important node\n",
        "\n",
        "\n",
        "Impact:\n",
        "If information needs to be spread quickly, we could convey that information to George"
      ]
    }
  ]
}